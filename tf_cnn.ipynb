{
  "nbformat": 4,
  "nbformat_minor": 0,
  "metadata": {
    "colab": {
      "name": "tf_cnn.ipynb",
      "provenance": [],
      "authorship_tag": "ABX9TyNq5THZ00FAQDKtCK6Cqt2I",
      "include_colab_link": true
    },
    "kernelspec": {
      "name": "python3",
      "display_name": "Python 3"
    }
  },
  "cells": [
    {
      "cell_type": "markdown",
      "metadata": {
        "id": "view-in-github",
        "colab_type": "text"
      },
      "source": [
        "<a href=\"https://colab.research.google.com/github/ndevar132/demo-repo/blob/master/tf_cnn.ipynb\" target=\"_parent\"><img src=\"https://colab.research.google.com/assets/colab-badge.svg\" alt=\"Open In Colab\"/></a>"
      ]
    },
    {
      "cell_type": "code",
      "metadata": {
        "id": "O299sWarGDgB",
        "colab_type": "code",
        "colab": {
          "base_uri": "https://localhost:8080/",
          "height": 561
        },
        "outputId": "07e125cc-94b0-4de6-af7c-eba909115fc7"
      },
      "source": [
        "%tensorflow_version 2.x\n",
        "import tensorflow as tf\n",
        "\n",
        "from tensorflow.keras import datasets, layers, models\n",
        "import matplotlib.pyplot as plt\n",
        "\n",
        "# load and split datasets\n",
        "(train_images, train_labels), (test_images, test_labels) = datasets.cifar10.load_data()\n",
        "\n",
        "# normailize pixel\n",
        "train_images, test_images = train_images / 255.0, test_images / 255.0\n",
        "\n",
        "class_names = ['airplane', 'automobile', 'bird', 'cat', 'deer',\n",
        "               'dog', 'frog', 'horse', 'ship', 'truck']\n",
        "\n",
        "# look at one image\n",
        "# IMG_INDEX = 6\n",
        "\n",
        "# plt.imshow(train_images[IMG_INDEX], cmap=plt.cm.binary)\n",
        "# plt.xlabel(class_names[train_labels[IMG_INDEX][0]])\n",
        "# plt.show()\n",
        "\n",
        "model = models.Sequential()\n",
        "model.add(layers.Conv2D(32, (3, 3), activation='relu', input_shape=(32, 32, 3)))\n",
        "model.add(layers.MaxPooling2D(2, 2))\n",
        "model.add(layers.Conv2D(64, (3, 3), activation='relu'))\n",
        "model.add(layers.MaxPooling2D(2, 2))\n",
        "model.add(layers.Conv2D(64, (3, 3), activation='relu'))\n",
        "\n",
        "\n",
        "\n",
        "# add dense layer (classifier)\n",
        "model.add(layers.Flatten())\n",
        "model.add(layers.Dense(64, activation=\"relu\"))\n",
        "model.add(layers.Dense(10))\n",
        "\n",
        "model.summary()\n",
        "\n",
        "# train\n",
        "model.compile(optimizer='adam',\n",
        "              loss=tf.keras.losses.SparseCategoricalCrossentropy(from_logits=True),\n",
        "              metrics=['accuracy'])\n",
        "\n",
        "history = model.fit(train_images, train_labels, epochs=4,\n",
        "                    validation_data=(test_images, test_labels))"
      ],
      "execution_count": 9,
      "outputs": [
        {
          "output_type": "stream",
          "text": [
            "Model: \"sequential_3\"\n",
            "_________________________________________________________________\n",
            "Layer (type)                 Output Shape              Param #   \n",
            "=================================================================\n",
            "conv2d_9 (Conv2D)            (None, 30, 30, 32)        896       \n",
            "_________________________________________________________________\n",
            "max_pooling2d_6 (MaxPooling2 (None, 15, 15, 32)        0         \n",
            "_________________________________________________________________\n",
            "conv2d_10 (Conv2D)           (None, 13, 13, 64)        18496     \n",
            "_________________________________________________________________\n",
            "max_pooling2d_7 (MaxPooling2 (None, 6, 6, 64)          0         \n",
            "_________________________________________________________________\n",
            "conv2d_11 (Conv2D)           (None, 4, 4, 64)          36928     \n",
            "_________________________________________________________________\n",
            "flatten_2 (Flatten)          (None, 1024)              0         \n",
            "_________________________________________________________________\n",
            "dense_3 (Dense)              (None, 64)                65600     \n",
            "_________________________________________________________________\n",
            "dense_4 (Dense)              (None, 10)                650       \n",
            "=================================================================\n",
            "Total params: 122,570\n",
            "Trainable params: 122,570\n",
            "Non-trainable params: 0\n",
            "_________________________________________________________________\n",
            "Epoch 1/4\n",
            "1563/1563 [==============================] - 67s 43ms/step - loss: 1.4930 - accuracy: 0.4559 - val_loss: 1.2590 - val_accuracy: 0.5508\n",
            "Epoch 2/4\n",
            "1563/1563 [==============================] - 66s 43ms/step - loss: 1.1225 - accuracy: 0.6032 - val_loss: 1.0833 - val_accuracy: 0.6255\n",
            "Epoch 3/4\n",
            "1563/1563 [==============================] - 67s 43ms/step - loss: 0.9799 - accuracy: 0.6559 - val_loss: 1.0146 - val_accuracy: 0.6465\n",
            "Epoch 4/4\n",
            "1563/1563 [==============================] - 68s 44ms/step - loss: 0.8739 - accuracy: 0.6939 - val_loss: 0.9346 - val_accuracy: 0.6774\n"
          ],
          "name": "stdout"
        }
      ]
    },
    {
      "cell_type": "code",
      "metadata": {
        "id": "MSttvR4yKDkT",
        "colab_type": "code",
        "colab": {
          "base_uri": "https://localhost:8080/",
          "height": 51
        },
        "outputId": "da3c5e25-dff2-47b3-d941-362e4efb3e77"
      },
      "source": [
        "test_loss, test_acc = model.evaluate(test_images, test_labels, verbose=2)\n",
        "print('Test accuracy: ' , test_acc)"
      ],
      "execution_count": 11,
      "outputs": [
        {
          "output_type": "stream",
          "text": [
            "313/313 - 4s - loss: 0.9346 - accuracy: 0.6774\n",
            "Test accuracy:  0.6773999929428101\n"
          ],
          "name": "stdout"
        }
      ]
    }
  ]
}